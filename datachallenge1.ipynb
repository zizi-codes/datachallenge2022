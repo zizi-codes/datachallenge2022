{
 "cells": [
  {
   "cell_type": "code",
   "execution_count": 6,
   "id": "011f83a2",
   "metadata": {},
   "outputs": [],
   "source": [
    "import pandas as pd \n",
    "import numpy as np\n",
    "\n",
    "train = pd.read_csv(\"train_updated.csv\")"
   ]
  },
  {
   "cell_type": "code",
   "execution_count": 7,
   "id": "81f2e2ea",
   "metadata": {},
   "outputs": [],
   "source": [
    "train = pd.DataFrame(train)"
   ]
  },
  {
   "cell_type": "code",
   "execution_count": 8,
   "id": "25bf6bcf",
   "metadata": {},
   "outputs": [
    {
     "data": {
      "text/plain": [
       "(40500, 55)"
      ]
     },
     "execution_count": 8,
     "metadata": {},
     "output_type": "execute_result"
    }
   ],
   "source": [
    "train.shape"
   ]
  },
  {
   "cell_type": "code",
   "execution_count": 9,
   "id": "485263f2",
   "metadata": {},
   "outputs": [
    {
     "data": {
      "text/plain": [
       "Index(['deviceid', 'avg_time_charging_lag1', 'avg_time_charging_lag2',\n",
       "       'avg_time_charging_lag3', 'avg_time_charging_lag7',\n",
       "       'charging_rate_lag3', 'charging_rate_lag7', 'avg_time_discharging_lag1',\n",
       "       'avg_time_discharging_lag2', 'avg_time_discharging_lag3',\n",
       "       'avg_time_discharging_lag7', 'discharging_rate_lag3',\n",
       "       'discharging_rate_lag7', 'fail_7', 'charge_cycle_time_below_12',\n",
       "       'avg_time_charging_lag4', 'avg_time_discharging_lag4',\n",
       "       'avg_time_charging_lag5', 'avg_time_discharging_lag5',\n",
       "       'avg_time_charging_lag6', 'avg_time_discharging_lag6',\n",
       "       'avg_time_charging_lag8', 'avg_time_discharging_lag8',\n",
       "       'avg_time_charging_lag9', 'avg_time_discharging_lag9',\n",
       "       'avg_time_charging_lag10', 'avg_time_discharging_lag10',\n",
       "       'avg_time_charging_lag11', 'avg_time_discharging_lag11',\n",
       "       'avg_time_charging_lag12', 'avg_time_discharging_lag12',\n",
       "       'avg_time_charging_lag13', 'avg_time_discharging_lag13',\n",
       "       'avg_time_charging_lag14', 'avg_time_discharging_lag14',\n",
       "       'discharging_rate_lag4', 'discharging_rate_lag5',\n",
       "       'discharging_rate_lag6', 'discharging_rate_lag8', 'charging_rate_lag4',\n",
       "       'charging_rate_lag5', 'charging_rate_lag6', 'chargecycles',\n",
       "       'dischargecycles', 'total_off_time', 'number_times_restart',\n",
       "       'avg_volt_change_charging', 'avg_volt_change_discharging',\n",
       "       'avg_time_charging', 'avg_time_discharging', 'max_voltage_day',\n",
       "       'piececount', 'cycle_time', 'LastRecord', 'Date Deployed'],\n",
       "      dtype='object')"
      ]
     },
     "execution_count": 9,
     "metadata": {},
     "output_type": "execute_result"
    }
   ],
   "source": [
    "train.columns"
   ]
  },
  {
   "cell_type": "code",
   "execution_count": 10,
   "id": "12b32e03",
   "metadata": {
    "scrolled": true
   },
   "outputs": [
    {
     "data": {
      "text/plain": [
       "deviceid                          0\n",
       "avg_time_charging_lag1            0\n",
       "avg_time_charging_lag2            0\n",
       "avg_time_charging_lag3            0\n",
       "avg_time_charging_lag7           66\n",
       "charging_rate_lag3                0\n",
       "charging_rate_lag7               12\n",
       "avg_time_discharging_lag1         0\n",
       "avg_time_discharging_lag2         0\n",
       "avg_time_discharging_lag3         0\n",
       "avg_time_discharging_lag7        66\n",
       "discharging_rate_lag3             0\n",
       "discharging_rate_lag7            12\n",
       "fail_7                            0\n",
       "charge_cycle_time_below_12        0\n",
       "avg_time_charging_lag4            0\n",
       "avg_time_discharging_lag4         0\n",
       "avg_time_charging_lag5            7\n",
       "avg_time_discharging_lag5         7\n",
       "avg_time_charging_lag6           28\n",
       "avg_time_discharging_lag6        28\n",
       "avg_time_charging_lag8          162\n",
       "avg_time_discharging_lag8       162\n",
       "avg_time_charging_lag9          374\n",
       "avg_time_discharging_lag9       374\n",
       "avg_time_charging_lag10         797\n",
       "avg_time_discharging_lag10      797\n",
       "avg_time_charging_lag11        1586\n",
       "avg_time_discharging_lag11     1586\n",
       "avg_time_charging_lag12        2757\n",
       "avg_time_discharging_lag12     2757\n",
       "avg_time_charging_lag13        4382\n",
       "avg_time_discharging_lag13     4382\n",
       "avg_time_charging_lag14        6668\n",
       "avg_time_discharging_lag14     6668\n",
       "discharging_rate_lag4             0\n",
       "discharging_rate_lag5             0\n",
       "discharging_rate_lag6             2\n",
       "discharging_rate_lag8            31\n",
       "charging_rate_lag4                0\n",
       "charging_rate_lag5                0\n",
       "charging_rate_lag6                2\n",
       "chargecycles                      0\n",
       "dischargecycles                   0\n",
       "total_off_time                    0\n",
       "number_times_restart              0\n",
       "avg_volt_change_charging          0\n",
       "avg_volt_change_discharging       0\n",
       "avg_time_charging                 0\n",
       "avg_time_discharging              0\n",
       "max_voltage_day                   0\n",
       "piececount                        0\n",
       "cycle_time                        0\n",
       "LastRecord                        0\n",
       "Date Deployed                     0\n",
       "dtype: int64"
      ]
     },
     "execution_count": 10,
     "metadata": {},
     "output_type": "execute_result"
    }
   ],
   "source": [
    "train.isnull().sum()"
   ]
  },
  {
   "cell_type": "code",
   "execution_count": 11,
   "id": "5e6e3db5",
   "metadata": {},
   "outputs": [
    {
     "name": "stdout",
     "output_type": "stream",
     "text": [
      "<class 'pandas.core.frame.DataFrame'>\n",
      "RangeIndex: 40500 entries, 0 to 40499\n",
      "Data columns (total 55 columns):\n",
      " #   Column                       Non-Null Count  Dtype  \n",
      "---  ------                       --------------  -----  \n",
      " 0   deviceid                     40500 non-null  int64  \n",
      " 1   avg_time_charging_lag1       40500 non-null  float64\n",
      " 2   avg_time_charging_lag2       40500 non-null  float64\n",
      " 3   avg_time_charging_lag3       40500 non-null  float64\n",
      " 4   avg_time_charging_lag7       40434 non-null  float64\n",
      " 5   charging_rate_lag3           40500 non-null  float64\n",
      " 6   charging_rate_lag7           40488 non-null  float64\n",
      " 7   avg_time_discharging_lag1    40500 non-null  float64\n",
      " 8   avg_time_discharging_lag2    40500 non-null  float64\n",
      " 9   avg_time_discharging_lag3    40500 non-null  float64\n",
      " 10  avg_time_discharging_lag7    40434 non-null  float64\n",
      " 11  discharging_rate_lag3        40500 non-null  float64\n",
      " 12  discharging_rate_lag7        40488 non-null  float64\n",
      " 13  fail_7                       40500 non-null  int64  \n",
      " 14  charge_cycle_time_below_12   40500 non-null  bool   \n",
      " 15  avg_time_charging_lag4       40500 non-null  float64\n",
      " 16  avg_time_discharging_lag4    40500 non-null  float64\n",
      " 17  avg_time_charging_lag5       40493 non-null  float64\n",
      " 18  avg_time_discharging_lag5    40493 non-null  float64\n",
      " 19  avg_time_charging_lag6       40472 non-null  float64\n",
      " 20  avg_time_discharging_lag6    40472 non-null  float64\n",
      " 21  avg_time_charging_lag8       40338 non-null  float64\n",
      " 22  avg_time_discharging_lag8    40338 non-null  float64\n",
      " 23  avg_time_charging_lag9       40126 non-null  float64\n",
      " 24  avg_time_discharging_lag9    40126 non-null  float64\n",
      " 25  avg_time_charging_lag10      39703 non-null  float64\n",
      " 26  avg_time_discharging_lag10   39703 non-null  float64\n",
      " 27  avg_time_charging_lag11      38914 non-null  float64\n",
      " 28  avg_time_discharging_lag11   38914 non-null  float64\n",
      " 29  avg_time_charging_lag12      37743 non-null  float64\n",
      " 30  avg_time_discharging_lag12   37743 non-null  float64\n",
      " 31  avg_time_charging_lag13      36118 non-null  float64\n",
      " 32  avg_time_discharging_lag13   36118 non-null  float64\n",
      " 33  avg_time_charging_lag14      33832 non-null  float64\n",
      " 34  avg_time_discharging_lag14   33832 non-null  float64\n",
      " 35  discharging_rate_lag4        40500 non-null  float64\n",
      " 36  discharging_rate_lag5        40500 non-null  float64\n",
      " 37  discharging_rate_lag6        40498 non-null  float64\n",
      " 38  discharging_rate_lag8        40469 non-null  float64\n",
      " 39  charging_rate_lag4           40500 non-null  float64\n",
      " 40  charging_rate_lag5           40500 non-null  float64\n",
      " 41  charging_rate_lag6           40498 non-null  float64\n",
      " 42  chargecycles                 40500 non-null  float64\n",
      " 43  dischargecycles              40500 non-null  float64\n",
      " 44  total_off_time               40500 non-null  float64\n",
      " 45  number_times_restart         40500 non-null  float64\n",
      " 46  avg_volt_change_charging     40500 non-null  float64\n",
      " 47  avg_volt_change_discharging  40500 non-null  float64\n",
      " 48  avg_time_charging            40500 non-null  float64\n",
      " 49  avg_time_discharging         40500 non-null  float64\n",
      " 50  max_voltage_day              40500 non-null  float64\n",
      " 51  piececount                   40500 non-null  float64\n",
      " 52  cycle_time                   40500 non-null  float64\n",
      " 53  LastRecord                   40500 non-null  object \n",
      " 54  Date Deployed                40500 non-null  object \n",
      "dtypes: bool(1), float64(50), int64(2), object(2)\n",
      "memory usage: 16.7+ MB\n"
     ]
    }
   ],
   "source": [
    "train.info()"
   ]
  },
  {
   "cell_type": "code",
   "execution_count": 12,
   "id": "f8823322",
   "metadata": {},
   "outputs": [],
   "source": [
    "#train.describe()"
   ]
  },
  {
   "cell_type": "code",
   "execution_count": 13,
   "id": "fa8fbe5e",
   "metadata": {},
   "outputs": [
    {
     "name": "stdout",
     "output_type": "stream",
     "text": [
      "['avg_time_charging_lag1', 'avg_time_charging_lag2', 'avg_time_charging_lag3', 'avg_time_charging_lag4', 'avg_time_charging_lag5', 'avg_time_charging_lag6', 'avg_time_charging_lag7', 'avg_time_charging_lag8', 'avg_time_charging_lag9', 'avg_time_charging_lag10', 'avg_time_charging_lag11', 'avg_time_charging_lag12', 'avg_time_charging_lag13', 'avg_time_charging_lag14']\n",
      "['avg_time_discharging_lag1', 'avg_time_discharging_lag2', 'avg_time_discharging_lag3', 'avg_time_discharging_lag4', 'avg_time_discharging_lag5', 'avg_time_discharging_lag6', 'avg_time_discharging_lag7', 'avg_time_discharging_lag8', 'avg_time_discharging_lag9', 'avg_time_discharging_lag10', 'avg_time_discharging_lag11', 'avg_time_discharging_lag12', 'avg_time_discharging_lag13', 'avg_time_discharging_lag14']\n",
      "['charging_rate_lag1', 'charging_rate_lag2', 'charging_rate_lag3', 'charging_rate_lag4', 'charging_rate_lag5', 'charging_rate_lag6', 'charging_rate_lag7']\n",
      "['discharging_rate_lag1', 'discharging_rate_lag2', 'discharging_rate_lag3', 'discharging_rate_lag4', 'discharging_rate_lag5', 'discharging_rate_lag6', 'discharging_rate_lag7', 'discharging_rate_lag8']\n"
     ]
    }
   ],
   "source": [
    "#creating lists to categorize different columns. we will use these columns to fill NaN with appropriate mean \n",
    "cols_avg_time_charging = []\n",
    "cols_avg_time_discharging = []\n",
    "for i in range(1,15): \n",
    "    col_charging = \"avg_time_charging_lag\" + str(i)\n",
    "    cols_avg_time_charging.append(col_charging)\n",
    "    col_discharging = \"avg_time_discharging_lag\" + str(i)\n",
    "    cols_avg_time_discharging.append(col_discharging)\n",
    "\n",
    "cols_charging_rate = []\n",
    "for i in range(1,8):\n",
    "    col_charging_rate = \"charging_rate_lag\" + str(i)\n",
    "    cols_charging_rate.append(col_charging_rate)\n",
    "\n",
    "cols_discharging_rate = []    \n",
    "for i in range(1,9):\n",
    "    col_discharging_rate = \"discharging_rate_lag\" + str(i)\n",
    "    cols_discharging_rate.append(col_discharging_rate)\n",
    "\n",
    "print (cols_avg_time_charging)\n",
    "print (cols_avg_time_discharging)\n",
    "print (cols_charging_rate)\n",
    "print (cols_discharging_rate)"
   ]
  },
  {
   "cell_type": "code",
   "execution_count": 14,
   "id": "84afde55",
   "metadata": {},
   "outputs": [],
   "source": [
    "#for row in range(len(train)):\n",
    "#mean_avg_time_charging = train[cols_avg_time_charging]/len([cols_avg_time_charging])\n"
   ]
  },
  {
   "cell_type": "code",
   "execution_count": 15,
   "id": "5ebf5bf2",
   "metadata": {},
   "outputs": [],
   "source": [
    "#train[train[cols_avg_time_charging]].isna()"
   ]
  },
  {
   "cell_type": "markdown",
   "id": "22382688",
   "metadata": {},
   "source": [
    "dont drop. but dont include. explain why eg: over 7 days data missing \n",
    "gather all 1's\n"
   ]
  },
  {
   "cell_type": "code",
   "execution_count": 18,
   "id": "45e8ccdc",
   "metadata": {},
   "outputs": [
    {
     "data": {
      "text/html": [
       "<div>\n",
       "<style scoped>\n",
       "    .dataframe tbody tr th:only-of-type {\n",
       "        vertical-align: middle;\n",
       "    }\n",
       "\n",
       "    .dataframe tbody tr th {\n",
       "        vertical-align: top;\n",
       "    }\n",
       "\n",
       "    .dataframe thead th {\n",
       "        text-align: right;\n",
       "    }\n",
       "</style>\n",
       "<table border=\"1\" class=\"dataframe\">\n",
       "  <thead>\n",
       "    <tr style=\"text-align: right;\">\n",
       "      <th></th>\n",
       "      <th>deviceid</th>\n",
       "      <th>avg_time_charging_lag1</th>\n",
       "      <th>avg_time_charging_lag2</th>\n",
       "      <th>avg_time_charging_lag3</th>\n",
       "      <th>avg_time_charging_lag7</th>\n",
       "      <th>charging_rate_lag3</th>\n",
       "      <th>charging_rate_lag7</th>\n",
       "      <th>avg_time_discharging_lag1</th>\n",
       "      <th>avg_time_discharging_lag2</th>\n",
       "      <th>avg_time_discharging_lag3</th>\n",
       "      <th>...</th>\n",
       "      <th>number_times_restart</th>\n",
       "      <th>avg_volt_change_charging</th>\n",
       "      <th>avg_volt_change_discharging</th>\n",
       "      <th>avg_time_charging</th>\n",
       "      <th>avg_time_discharging</th>\n",
       "      <th>max_voltage_day</th>\n",
       "      <th>piececount</th>\n",
       "      <th>cycle_time</th>\n",
       "      <th>LastRecord</th>\n",
       "      <th>Date Deployed</th>\n",
       "    </tr>\n",
       "    <tr>\n",
       "      <th>fail_7</th>\n",
       "      <th></th>\n",
       "      <th></th>\n",
       "      <th></th>\n",
       "      <th></th>\n",
       "      <th></th>\n",
       "      <th></th>\n",
       "      <th></th>\n",
       "      <th></th>\n",
       "      <th></th>\n",
       "      <th></th>\n",
       "      <th></th>\n",
       "      <th></th>\n",
       "      <th></th>\n",
       "      <th></th>\n",
       "      <th></th>\n",
       "      <th></th>\n",
       "      <th></th>\n",
       "      <th></th>\n",
       "      <th></th>\n",
       "      <th></th>\n",
       "      <th></th>\n",
       "    </tr>\n",
       "  </thead>\n",
       "  <tbody>\n",
       "    <tr>\n",
       "      <th>0</th>\n",
       "      <td>31099</td>\n",
       "      <td>31099</td>\n",
       "      <td>31099</td>\n",
       "      <td>31099</td>\n",
       "      <td>31042</td>\n",
       "      <td>31099</td>\n",
       "      <td>31088</td>\n",
       "      <td>31099</td>\n",
       "      <td>31099</td>\n",
       "      <td>31099</td>\n",
       "      <td>...</td>\n",
       "      <td>31099</td>\n",
       "      <td>31099</td>\n",
       "      <td>31099</td>\n",
       "      <td>31099</td>\n",
       "      <td>31099</td>\n",
       "      <td>31099</td>\n",
       "      <td>31099</td>\n",
       "      <td>31099</td>\n",
       "      <td>31099</td>\n",
       "      <td>31099</td>\n",
       "    </tr>\n",
       "    <tr>\n",
       "      <th>1</th>\n",
       "      <td>9401</td>\n",
       "      <td>9401</td>\n",
       "      <td>9401</td>\n",
       "      <td>9401</td>\n",
       "      <td>9392</td>\n",
       "      <td>9401</td>\n",
       "      <td>9400</td>\n",
       "      <td>9401</td>\n",
       "      <td>9401</td>\n",
       "      <td>9401</td>\n",
       "      <td>...</td>\n",
       "      <td>9401</td>\n",
       "      <td>9401</td>\n",
       "      <td>9401</td>\n",
       "      <td>9401</td>\n",
       "      <td>9401</td>\n",
       "      <td>9401</td>\n",
       "      <td>9401</td>\n",
       "      <td>9401</td>\n",
       "      <td>9401</td>\n",
       "      <td>9401</td>\n",
       "    </tr>\n",
       "  </tbody>\n",
       "</table>\n",
       "<p>2 rows × 54 columns</p>\n",
       "</div>"
      ],
      "text/plain": [
       "        deviceid  avg_time_charging_lag1  avg_time_charging_lag2  \\\n",
       "fail_7                                                             \n",
       "0          31099                   31099                   31099   \n",
       "1           9401                    9401                    9401   \n",
       "\n",
       "        avg_time_charging_lag3  avg_time_charging_lag7  charging_rate_lag3  \\\n",
       "fail_7                                                                       \n",
       "0                        31099                   31042               31099   \n",
       "1                         9401                    9392                9401   \n",
       "\n",
       "        charging_rate_lag7  avg_time_discharging_lag1  \\\n",
       "fail_7                                                  \n",
       "0                    31088                      31099   \n",
       "1                     9400                       9401   \n",
       "\n",
       "        avg_time_discharging_lag2  avg_time_discharging_lag3  ...  \\\n",
       "fail_7                                                        ...   \n",
       "0                           31099                      31099  ...   \n",
       "1                            9401                       9401  ...   \n",
       "\n",
       "        number_times_restart  avg_volt_change_charging  \\\n",
       "fail_7                                                   \n",
       "0                      31099                     31099   \n",
       "1                       9401                      9401   \n",
       "\n",
       "        avg_volt_change_discharging  avg_time_charging  avg_time_discharging  \\\n",
       "fail_7                                                                         \n",
       "0                             31099              31099                 31099   \n",
       "1                              9401               9401                  9401   \n",
       "\n",
       "        max_voltage_day  piececount  cycle_time  LastRecord  Date Deployed  \n",
       "fail_7                                                                      \n",
       "0                 31099       31099       31099       31099          31099  \n",
       "1                  9401        9401        9401        9401           9401  \n",
       "\n",
       "[2 rows x 54 columns]"
      ]
     },
     "execution_count": 18,
     "metadata": {},
     "output_type": "execute_result"
    }
   ],
   "source": [
    "train.groupby('fail_7').count()"
   ]
  },
  {
   "cell_type": "code",
   "execution_count": null,
   "id": "b8592c4f",
   "metadata": {},
   "outputs": [],
   "source": []
  },
  {
   "cell_type": "code",
   "execution_count": null,
   "id": "bfbfa961",
   "metadata": {},
   "outputs": [],
   "source": []
  }
 ],
 "metadata": {
  "kernelspec": {
   "display_name": "Python 3",
   "language": "python",
   "name": "python3"
  },
  "language_info": {
   "codemirror_mode": {
    "name": "ipython",
    "version": 3
   },
   "file_extension": ".py",
   "mimetype": "text/x-python",
   "name": "python",
   "nbconvert_exporter": "python",
   "pygments_lexer": "ipython3",
   "version": "3.8.8"
  }
 },
 "nbformat": 4,
 "nbformat_minor": 5
}
